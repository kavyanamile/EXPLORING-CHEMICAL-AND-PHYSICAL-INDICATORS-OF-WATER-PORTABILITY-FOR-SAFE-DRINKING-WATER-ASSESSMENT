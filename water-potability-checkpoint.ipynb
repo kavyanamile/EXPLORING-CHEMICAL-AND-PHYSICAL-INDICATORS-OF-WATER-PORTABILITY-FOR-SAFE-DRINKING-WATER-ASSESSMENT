{
 "cells": [
  {
   "cell_type": "markdown",
   "id": "c4ef87fe",
   "metadata": {},
   "source": [
    "# Machine Learning-Based Potability Assessment of Drinking Water for Human Consumption"
   ]
  },
  {
   "cell_type": "code",
   "execution_count": 2,
   "id": "1e15284a",
   "metadata": {},
   "outputs": [],
   "source": [
    "#Importing the librarires"
   ]
  },
  {
   "cell_type": "code",
   "execution_count": 3,
   "id": "8ac6970b",
   "metadata": {
    "_cell_guid": "b1076dfc-b9ad-4769-8c92-a6c4dae69d19",
    "_uuid": "8f2839f25d086af736a60e9eeb907d3b93b6e0e5",
    "execution": {
     "iopub.execute_input": "2022-08-05T15:53:08.762108Z",
     "iopub.status.busy": "2022-08-05T15:53:08.761321Z",
     "iopub.status.idle": "2022-08-05T15:53:08.820218Z",
     "shell.execute_reply": "2022-08-05T15:53:08.818813Z"
    },
    "papermill": {
     "duration": 0.069026,
     "end_time": "2022-08-05T15:53:08.823174",
     "exception": false,
     "start_time": "2022-08-05T15:53:08.754148",
     "status": "completed"
    },
    "tags": []
   },
   "outputs": [],
   "source": [
    "import pandas as pd\n",
    "import matplotlib.pyplot as plt\n",
    "import seaborn as sns\n",
    "from sklearn.model_selection import train_test_split\n",
    "from sklearn.metrics import accuracy_score,confusion_matrix,classification_report\n",
    "from sklearn.preprocessing import StandardScaler\n",
    "from sklearn.neighbors import KNeighborsClassifier\n",
    "from sklearn.ensemble import AdaBoostClassifier\n",
    "from sklearn.ensemble import RandomForestClassifier\n",
    "from sklearn.tree import DecisionTreeClassifier"
   ]
  },
  {
   "cell_type": "code",
   "execution_count": 4,
   "id": "cf48e9f5",
   "metadata": {},
   "outputs": [
    {
     "data": {
      "text/html": [
       "<div>\n",
       "<style scoped>\n",
       "    .dataframe tbody tr th:only-of-type {\n",
       "        vertical-align: middle;\n",
       "    }\n",
       "\n",
       "    .dataframe tbody tr th {\n",
       "        vertical-align: top;\n",
       "    }\n",
       "\n",
       "    .dataframe thead th {\n",
       "        text-align: right;\n",
       "    }\n",
       "</style>\n",
       "<table border=\"1\" class=\"dataframe\">\n",
       "  <thead>\n",
       "    <tr style=\"text-align: right;\">\n",
       "      <th></th>\n",
       "      <th>ph</th>\n",
       "      <th>Hardness</th>\n",
       "      <th>Solids</th>\n",
       "      <th>Chloramines</th>\n",
       "      <th>Sulfate</th>\n",
       "      <th>Conductivity</th>\n",
       "      <th>Organic_carbon</th>\n",
       "      <th>Trihalomethanes</th>\n",
       "      <th>Turbidity</th>\n",
       "      <th>Potability</th>\n",
       "    </tr>\n",
       "  </thead>\n",
       "  <tbody>\n",
       "    <tr>\n",
       "      <th>0</th>\n",
       "      <td>7.080795</td>\n",
       "      <td>219.674262</td>\n",
       "      <td>22210.61308</td>\n",
       "      <td>5.875041</td>\n",
       "      <td>333.775777</td>\n",
       "      <td>398.517703</td>\n",
       "      <td>11.502316</td>\n",
       "      <td>112.412210</td>\n",
       "      <td>2.994259</td>\n",
       "      <td>0</td>\n",
       "    </tr>\n",
       "    <tr>\n",
       "      <th>1</th>\n",
       "      <td>6.783888</td>\n",
       "      <td>193.653581</td>\n",
       "      <td>13677.10644</td>\n",
       "      <td>5.171454</td>\n",
       "      <td>323.728663</td>\n",
       "      <td>477.854687</td>\n",
       "      <td>15.056064</td>\n",
       "      <td>66.396293</td>\n",
       "      <td>3.250022</td>\n",
       "      <td>0</td>\n",
       "    </tr>\n",
       "    <tr>\n",
       "      <th>2</th>\n",
       "      <td>6.010618</td>\n",
       "      <td>184.558582</td>\n",
       "      <td>15940.57327</td>\n",
       "      <td>8.165222</td>\n",
       "      <td>421.486089</td>\n",
       "      <td>314.529813</td>\n",
       "      <td>20.314617</td>\n",
       "      <td>83.707938</td>\n",
       "      <td>4.867287</td>\n",
       "      <td>1</td>\n",
       "    </tr>\n",
       "    <tr>\n",
       "      <th>3</th>\n",
       "      <td>8.097454</td>\n",
       "      <td>218.992436</td>\n",
       "      <td>18112.28445</td>\n",
       "      <td>6.196947</td>\n",
       "      <td>333.775777</td>\n",
       "      <td>376.569803</td>\n",
       "      <td>17.746264</td>\n",
       "      <td>59.909941</td>\n",
       "      <td>4.279082</td>\n",
       "      <td>1</td>\n",
       "    </tr>\n",
       "    <tr>\n",
       "      <th>4</th>\n",
       "      <td>8.072612</td>\n",
       "      <td>210.269780</td>\n",
       "      <td>16843.36393</td>\n",
       "      <td>8.793459</td>\n",
       "      <td>359.516169</td>\n",
       "      <td>559.167574</td>\n",
       "      <td>17.263576</td>\n",
       "      <td>68.738989</td>\n",
       "      <td>5.082206</td>\n",
       "      <td>0</td>\n",
       "    </tr>\n",
       "    <tr>\n",
       "      <th>...</th>\n",
       "      <td>...</td>\n",
       "      <td>...</td>\n",
       "      <td>...</td>\n",
       "      <td>...</td>\n",
       "      <td>...</td>\n",
       "      <td>...</td>\n",
       "      <td>...</td>\n",
       "      <td>...</td>\n",
       "      <td>...</td>\n",
       "      <td>...</td>\n",
       "    </tr>\n",
       "    <tr>\n",
       "      <th>4581</th>\n",
       "      <td>8.124208</td>\n",
       "      <td>207.509515</td>\n",
       "      <td>26489.11470</td>\n",
       "      <td>8.540837</td>\n",
       "      <td>318.059624</td>\n",
       "      <td>431.625677</td>\n",
       "      <td>10.075598</td>\n",
       "      <td>63.984225</td>\n",
       "      <td>4.724457</td>\n",
       "      <td>0</td>\n",
       "    </tr>\n",
       "    <tr>\n",
       "      <th>4582</th>\n",
       "      <td>10.391942</td>\n",
       "      <td>262.741770</td>\n",
       "      <td>39116.68271</td>\n",
       "      <td>3.205786</td>\n",
       "      <td>285.728420</td>\n",
       "      <td>473.313969</td>\n",
       "      <td>13.300688</td>\n",
       "      <td>65.318816</td>\n",
       "      <td>5.771715</td>\n",
       "      <td>0</td>\n",
       "    </tr>\n",
       "    <tr>\n",
       "      <th>4583</th>\n",
       "      <td>7.790875</td>\n",
       "      <td>196.478712</td>\n",
       "      <td>24061.34960</td>\n",
       "      <td>6.785685</td>\n",
       "      <td>350.117254</td>\n",
       "      <td>471.518536</td>\n",
       "      <td>15.343316</td>\n",
       "      <td>44.544627</td>\n",
       "      <td>3.076214</td>\n",
       "      <td>0</td>\n",
       "    </tr>\n",
       "    <tr>\n",
       "      <th>4584</th>\n",
       "      <td>6.139743</td>\n",
       "      <td>168.444214</td>\n",
       "      <td>23894.13601</td>\n",
       "      <td>9.494582</td>\n",
       "      <td>318.026087</td>\n",
       "      <td>494.129125</td>\n",
       "      <td>19.116022</td>\n",
       "      <td>60.264767</td>\n",
       "      <td>3.841222</td>\n",
       "      <td>0</td>\n",
       "    </tr>\n",
       "    <tr>\n",
       "      <th>4585</th>\n",
       "      <td>7.080795</td>\n",
       "      <td>143.300200</td>\n",
       "      <td>16263.16747</td>\n",
       "      <td>6.229737</td>\n",
       "      <td>333.775777</td>\n",
       "      <td>503.664085</td>\n",
       "      <td>19.585497</td>\n",
       "      <td>66.396293</td>\n",
       "      <td>3.451740</td>\n",
       "      <td>1</td>\n",
       "    </tr>\n",
       "  </tbody>\n",
       "</table>\n",
       "<p>4586 rows × 10 columns</p>\n",
       "</div>"
      ],
      "text/plain": [
       "             ph    Hardness       Solids  Chloramines     Sulfate  \\\n",
       "0      7.080795  219.674262  22210.61308     5.875041  333.775777   \n",
       "1      6.783888  193.653581  13677.10644     5.171454  323.728663   \n",
       "2      6.010618  184.558582  15940.57327     8.165222  421.486089   \n",
       "3      8.097454  218.992436  18112.28445     6.196947  333.775777   \n",
       "4      8.072612  210.269780  16843.36393     8.793459  359.516169   \n",
       "...         ...         ...          ...          ...         ...   \n",
       "4581   8.124208  207.509515  26489.11470     8.540837  318.059624   \n",
       "4582  10.391942  262.741770  39116.68271     3.205786  285.728420   \n",
       "4583   7.790875  196.478712  24061.34960     6.785685  350.117254   \n",
       "4584   6.139743  168.444214  23894.13601     9.494582  318.026087   \n",
       "4585   7.080795  143.300200  16263.16747     6.229737  333.775777   \n",
       "\n",
       "      Conductivity  Organic_carbon  Trihalomethanes  Turbidity  Potability  \n",
       "0       398.517703       11.502316       112.412210   2.994259           0  \n",
       "1       477.854687       15.056064        66.396293   3.250022           0  \n",
       "2       314.529813       20.314617        83.707938   4.867287           1  \n",
       "3       376.569803       17.746264        59.909941   4.279082           1  \n",
       "4       559.167574       17.263576        68.738989   5.082206           0  \n",
       "...            ...             ...              ...        ...         ...  \n",
       "4581    431.625677       10.075598        63.984225   4.724457           0  \n",
       "4582    473.313969       13.300688        65.318816   5.771715           0  \n",
       "4583    471.518536       15.343316        44.544627   3.076214           0  \n",
       "4584    494.129125       19.116022        60.264767   3.841222           0  \n",
       "4585    503.664085       19.585497        66.396293   3.451740           1  \n",
       "\n",
       "[4586 rows x 10 columns]"
      ]
     },
     "execution_count": 4,
     "metadata": {},
     "output_type": "execute_result"
    }
   ],
   "source": [
    "dataset=pd.read_csv('train_dataset.csv')\n",
    "dataset"
   ]
  },
  {
   "cell_type": "code",
   "execution_count": 5,
   "id": "64d9954a",
   "metadata": {},
   "outputs": [
    {
     "data": {
      "text/plain": [
       "Index(['ph', 'Hardness', 'Solids', 'Chloramines', 'Sulfate', 'Conductivity',\n",
       "       'Organic_carbon', 'Trihalomethanes', 'Turbidity', 'Potability'],\n",
       "      dtype='object')"
      ]
     },
     "execution_count": 5,
     "metadata": {},
     "output_type": "execute_result"
    }
   ],
   "source": [
    "dataset.columns"
   ]
  },
  {
   "cell_type": "code",
   "execution_count": 6,
   "id": "b76b2581",
   "metadata": {
    "execution": {
     "iopub.execute_input": "2022-08-05T15:53:08.833545Z",
     "iopub.status.busy": "2022-08-05T15:53:08.832906Z",
     "iopub.status.idle": "2022-08-05T15:53:08.847455Z",
     "shell.execute_reply": "2022-08-05T15:53:08.846578Z"
    },
    "papermill": {
     "duration": 0.022083,
     "end_time": "2022-08-05T15:53:08.849887",
     "exception": false,
     "start_time": "2022-08-05T15:53:08.827804",
     "status": "completed"
    },
    "tags": []
   },
   "outputs": [
    {
     "data": {
      "text/plain": [
       "ph                 1948\n",
       "Hardness           2293\n",
       "Solids             2293\n",
       "Chloramines        2293\n",
       "Sulfate            1766\n",
       "Conductivity       2293\n",
       "Organic_carbon     2293\n",
       "Trihalomethanes    2193\n",
       "Turbidity          2293\n",
       "Potability            2\n",
       "dtype: int64"
      ]
     },
     "execution_count": 6,
     "metadata": {},
     "output_type": "execute_result"
    }
   ],
   "source": [
    "dataset.nunique()"
   ]
  },
  {
   "cell_type": "code",
   "execution_count": 7,
   "id": "a6a8453f",
   "metadata": {
    "execution": {
     "iopub.execute_input": "2022-08-05T15:53:08.861432Z",
     "iopub.status.busy": "2022-08-05T15:53:08.860713Z",
     "iopub.status.idle": "2022-08-05T15:53:08.883187Z",
     "shell.execute_reply": "2022-08-05T15:53:08.882164Z"
    },
    "papermill": {
     "duration": 0.032018,
     "end_time": "2022-08-05T15:53:08.886631",
     "exception": false,
     "start_time": "2022-08-05T15:53:08.854613",
     "status": "completed"
    },
    "tags": []
   },
   "outputs": [
    {
     "name": "stdout",
     "output_type": "stream",
     "text": [
      "<class 'pandas.core.frame.DataFrame'>\n",
      "RangeIndex: 4586 entries, 0 to 4585\n",
      "Data columns (total 10 columns):\n",
      " #   Column           Non-Null Count  Dtype  \n",
      "---  ------           --------------  -----  \n",
      " 0   ph               4586 non-null   float64\n",
      " 1   Hardness         4586 non-null   float64\n",
      " 2   Solids           4586 non-null   float64\n",
      " 3   Chloramines      4586 non-null   float64\n",
      " 4   Sulfate          4586 non-null   float64\n",
      " 5   Conductivity     4586 non-null   float64\n",
      " 6   Organic_carbon   4586 non-null   float64\n",
      " 7   Trihalomethanes  4586 non-null   float64\n",
      " 8   Turbidity        4586 non-null   float64\n",
      " 9   Potability       4586 non-null   int64  \n",
      "dtypes: float64(9), int64(1)\n",
      "memory usage: 358.4 KB\n"
     ]
    }
   ],
   "source": [
    "dataset.info()"
   ]
  },
  {
   "cell_type": "code",
   "execution_count": 8,
   "id": "0a131c4c",
   "metadata": {
    "execution": {
     "iopub.execute_input": "2022-08-05T15:54:34.890439Z",
     "iopub.status.busy": "2022-08-05T15:54:34.889631Z",
     "iopub.status.idle": "2022-08-05T15:54:34.896331Z",
     "shell.execute_reply": "2022-08-05T15:54:34.895298Z"
    },
    "papermill": {
     "duration": 0.036454,
     "end_time": "2022-08-05T15:54:34.898457",
     "exception": false,
     "start_time": "2022-08-05T15:54:34.862003",
     "status": "completed"
    },
    "tags": []
   },
   "outputs": [],
   "source": [
    "y = dataset['Potability']\n",
    "X = dataset.drop('Potability',axis=1)"
   ]
  },
  {
   "cell_type": "code",
   "execution_count": 9,
   "id": "47d385ca",
   "metadata": {},
   "outputs": [],
   "source": [
    "# Scale the features\n",
    "scaler = StandardScaler()\n",
    "X= scaler.fit_transform(X)"
   ]
  },
  {
   "cell_type": "code",
   "execution_count": 10,
   "id": "5ea184ea",
   "metadata": {},
   "outputs": [
    {
     "data": {
      "text/plain": [
       "array([[-9.89755325e-04,  7.17453856e-01,  1.57241072e-02, ...,\n",
       "        -8.16253498e-01,  2.85806845e+00, -1.23415447e+00],\n",
       "       [-2.00831668e-01, -8.43283327e-02, -9.68895734e-01, ...,\n",
       "         2.47519950e-01, -6.42575770e-03, -9.09708962e-01],\n",
       "       [-7.21305876e-01, -3.64574958e-01, -7.07730607e-01, ...,\n",
       "         1.82160679e+00,  1.07122539e+00,  1.14185588e+00],\n",
       "       ...,\n",
       "       [ 4.76952084e-01,  2.72320646e-03,  2.29267258e-01, ...,\n",
       "         3.33505375e-01, -1.36669355e+00, -1.13019114e+00],\n",
       "       [-6.34393942e-01, -8.61111250e-01,  2.09973687e-01, ...,\n",
       "         1.46282138e+00, -3.88113700e-01, -1.59749210e-01],\n",
       "       [-9.89755325e-04, -1.63588046e+00, -6.70508786e-01, ...,\n",
       "         1.60335311e+00, -6.42575770e-03, -6.53821931e-01]])"
      ]
     },
     "execution_count": 10,
     "metadata": {},
     "output_type": "execute_result"
    }
   ],
   "source": [
    "X"
   ]
  },
  {
   "cell_type": "code",
   "execution_count": 11,
   "id": "8073bead",
   "metadata": {
    "execution": {
     "iopub.execute_input": "2022-08-05T15:54:34.952796Z",
     "iopub.status.busy": "2022-08-05T15:54:34.952404Z",
     "iopub.status.idle": "2022-08-05T15:54:35.531456Z",
     "shell.execute_reply": "2022-08-05T15:54:35.530054Z"
    },
    "papermill": {
     "duration": 0.610496,
     "end_time": "2022-08-05T15:54:35.534627",
     "exception": false,
     "start_time": "2022-08-05T15:54:34.924131",
     "status": "completed"
    },
    "tags": []
   },
   "outputs": [],
   "source": [
    "X_train, X_test, y_train, y_test = train_test_split( X, y, test_size=0.1)"
   ]
  },
  {
   "cell_type": "code",
   "execution_count": 12,
   "id": "120f172d",
   "metadata": {},
   "outputs": [
    {
     "name": "stdout",
     "output_type": "stream",
     "text": [
      "Accuracy: 0.7516339869281046\n"
     ]
    }
   ],
   "source": [
    "# Create kNN classifier with k=3\n",
    "knn = KNeighborsClassifier()\n",
    "\n",
    "# Train the classifier\n",
    "knn.fit(X_train, y_train)\n",
    "\n",
    "# Make predictions on the test set\n",
    "y_pred = knn.predict(X_test)\n",
    "\n",
    "# Calculate accuracy\n",
    "accuracy = accuracy_score(y_test, y_pred)\n",
    "print(\"Accuracy:\", accuracy)"
   ]
  },
  {
   "cell_type": "code",
   "execution_count": 13,
   "id": "a3b017d5",
   "metadata": {},
   "outputs": [
    {
     "name": "stdout",
     "output_type": "stream",
     "text": [
      "              precision    recall  f1-score   support\n",
      "\n",
      "           0       0.78      0.85      0.81       296\n",
      "           1       0.68      0.58      0.62       163\n",
      "\n",
      "    accuracy                           0.75       459\n",
      "   macro avg       0.73      0.71      0.72       459\n",
      "weighted avg       0.75      0.75      0.75       459\n",
      " \n",
      "\n"
     ]
    }
   ],
   "source": [
    "print(classification_report(y_test, y_pred),'\\n')"
   ]
  },
  {
   "cell_type": "code",
   "execution_count": 14,
   "id": "e03d9da3",
   "metadata": {},
   "outputs": [],
   "source": [
    "cm=confusion_matrix(y_test, y_pred)"
   ]
  },
  {
   "cell_type": "code",
   "execution_count": 15,
   "id": "88810672",
   "metadata": {},
   "outputs": [
    {
     "data": {
      "image/png": "[encoded data removed]",
      "text/plain": [
       "<Figure size 800x600 with 2 Axes>"
      ]
     },
     "metadata": {},
     "output_type": "display_data"
    }
   ],
   "source": [
    "# Create a heatmap\n",
    "plt.figure(figsize=(8, 6))\n",
    "sns.heatmap(cm, annot=True, fmt='d', cmap='Blues')\n",
    "plt.xlabel('Predicted')\n",
    "plt.ylabel('Actual')\n",
    "plt.title('Confusion Matrix')\n",
    "plt.show()"
   ]
  },
  {
   "cell_type": "code",
   "execution_count": 16,
   "id": "c4a77465",
   "metadata": {},
   "outputs": [],
   "source": [
    "#Hybrid model"
   ]
  },
  {
   "cell_type": "code",
   "execution_count": 17,
   "id": "5fbd74dc",
   "metadata": {},
   "outputs": [
    {
     "name": "stdout",
     "output_type": "stream",
     "text": [
      "AdaBoost Model Accuracy: 0.9651416122004357\n"
     ]
    }
   ],
   "source": [
    "# Create a base estimator (Decision tree in this case)\n",
    "base_estimator = DecisionTreeClassifier()\n",
    "\n",
    "# Create an AdaBoost Classifier with the base estimator\n",
    "adaboost_model = AdaBoostClassifier(base_estimator=base_estimator, n_estimators=50, random_state=42)\n",
    "\n",
    "# Train the AdaBoost Classifier\n",
    "adaboost_model.fit(X_train, y_train)\n",
    "\n",
    "# Make predictions\n",
    "predictions = adaboost_model.predict(X_test)\n",
    "\n",
    "# Calculate accuracy\n",
    "accuracy = accuracy_score(y_test, predictions)\n",
    "print(f\"AdaBoost Model Accuracy: {accuracy}\")\n"
   ]
  },
  {
   "cell_type": "code",
   "execution_count": 18,
   "id": "b408445c",
   "metadata": {},
   "outputs": [
    {
     "name": "stdout",
     "output_type": "stream",
     "text": [
      "AdaBoost model saved as adaboost_model.pkl\n"
     ]
    }
   ],
   "source": [
    "import pickle\n",
    "\n",
    "# Save the model to a file\n",
    "model_filename = 'adaboost_model.pkl'\n",
    "with open(model_filename, 'wb') as model_file:\n",
    "    pickle.dump(adaboost_model, model_file)\n",
    "\n",
    "print(f\"AdaBoost model saved as {model_filename}\")\n"
   ]
  },
  {
   "cell_type": "code",
   "execution_count": 19,
   "id": "e7fbf57b",
   "metadata": {
    "execution": {
     "iopub.execute_input": "2022-08-05T15:54:41.171743Z",
     "iopub.status.busy": "2022-08-05T15:54:41.171056Z",
     "iopub.status.idle": "2022-08-05T15:54:41.299565Z",
     "shell.execute_reply": "2022-08-05T15:54:41.298176Z"
    },
    "papermill": {
     "duration": 0.163061,
     "end_time": "2022-08-05T15:54:41.305189",
     "exception": false,
     "start_time": "2022-08-05T15:54:41.142128",
     "status": "completed"
    },
    "tags": []
   },
   "outputs": [
    {
     "name": "stdout",
     "output_type": "stream",
     "text": [
      "              precision    recall  f1-score   support\n",
      "\n",
      "           0       0.99      0.95      0.97       296\n",
      "           1       0.92      0.99      0.95       163\n",
      "\n",
      "    accuracy                           0.97       459\n",
      "   macro avg       0.96      0.97      0.96       459\n",
      "weighted avg       0.97      0.97      0.97       459\n",
      " \n",
      "\n"
     ]
    }
   ],
   "source": [
    "from sklearn.metrics import classification_report\n",
    "print(classification_report(y_test, predictions),'\\n')"
   ]
  },
  {
   "cell_type": "code",
   "execution_count": 20,
   "id": "3acf043a",
   "metadata": {},
   "outputs": [],
   "source": [
    "cm1=confusion_matrix(y_test, predictions)"
   ]
  },
  {
   "cell_type": "code",
   "execution_count": 21,
   "id": "5615376b",
   "metadata": {},
   "outputs": [
    {
     "data": {
      "image/png": "[encoded data removed]",
      "text/plain": [
       "<Figure size 800x600 with 2 Axes>"
      ]
     },
     "metadata": {},
     "output_type": "display_data"
    }
   ],
   "source": [
    "# Create a heatmap\n",
    "plt.figure(figsize=(8, 6))\n",
    "sns.heatmap(cm1, annot=True, fmt='d', cmap='Blues')\n",
    "plt.xlabel('Predicted')\n",
    "plt.ylabel('Actual')\n",
    "plt.title('Confusion Matrix')\n",
    "plt.show()"
   ]
  },
  {
   "cell_type": "code",
   "execution_count": 31,
   "id": "92b6a675",
   "metadata": {},
   "outputs": [
    {
     "data": {
      "text/html": [
       "<div>\n",
       "<style scoped>\n",
       "    .dataframe tbody tr th:only-of-type {\n",
       "        vertical-align: middle;\n",
       "    }\n",
       "\n",
       "    .dataframe tbody tr th {\n",
       "        vertical-align: top;\n",
       "    }\n",
       "\n",
       "    .dataframe thead th {\n",
       "        text-align: right;\n",
       "    }\n",
       "</style>\n",
       "<table border=\"1\" class=\"dataframe\">\n",
       "  <thead>\n",
       "    <tr style=\"text-align: right;\">\n",
       "      <th></th>\n",
       "      <th>ph</th>\n",
       "      <th>Hardness</th>\n",
       "      <th>Solids</th>\n",
       "      <th>Chloramines</th>\n",
       "      <th>Sulfate</th>\n",
       "      <th>Conductivity</th>\n",
       "      <th>Organic_carbon</th>\n",
       "      <th>Trihalomethanes</th>\n",
       "      <th>Turbidity</th>\n",
       "    </tr>\n",
       "  </thead>\n",
       "  <tbody>\n",
       "    <tr>\n",
       "      <th>0</th>\n",
       "      <td>7.080795</td>\n",
       "      <td>219.674262</td>\n",
       "      <td>22210.61308</td>\n",
       "      <td>5.875041</td>\n",
       "      <td>333.775777</td>\n",
       "      <td>398.517703</td>\n",
       "      <td>11.502316</td>\n",
       "      <td>112.412210</td>\n",
       "      <td>2.994259</td>\n",
       "    </tr>\n",
       "    <tr>\n",
       "      <th>1</th>\n",
       "      <td>6.783888</td>\n",
       "      <td>193.653581</td>\n",
       "      <td>13677.10644</td>\n",
       "      <td>5.171454</td>\n",
       "      <td>323.728663</td>\n",
       "      <td>477.854687</td>\n",
       "      <td>15.056064</td>\n",
       "      <td>66.396293</td>\n",
       "      <td>3.250022</td>\n",
       "    </tr>\n",
       "    <tr>\n",
       "      <th>2</th>\n",
       "      <td>6.010618</td>\n",
       "      <td>184.558582</td>\n",
       "      <td>15940.57327</td>\n",
       "      <td>8.165222</td>\n",
       "      <td>421.486089</td>\n",
       "      <td>314.529813</td>\n",
       "      <td>20.314617</td>\n",
       "      <td>83.707938</td>\n",
       "      <td>4.867287</td>\n",
       "    </tr>\n",
       "    <tr>\n",
       "      <th>3</th>\n",
       "      <td>8.097454</td>\n",
       "      <td>218.992436</td>\n",
       "      <td>18112.28445</td>\n",
       "      <td>6.196947</td>\n",
       "      <td>333.775777</td>\n",
       "      <td>376.569803</td>\n",
       "      <td>17.746264</td>\n",
       "      <td>59.909941</td>\n",
       "      <td>4.279082</td>\n",
       "    </tr>\n",
       "    <tr>\n",
       "      <th>4</th>\n",
       "      <td>8.072612</td>\n",
       "      <td>210.269780</td>\n",
       "      <td>16843.36393</td>\n",
       "      <td>8.793459</td>\n",
       "      <td>359.516169</td>\n",
       "      <td>559.167574</td>\n",
       "      <td>17.263576</td>\n",
       "      <td>68.738989</td>\n",
       "      <td>5.082206</td>\n",
       "    </tr>\n",
       "    <tr>\n",
       "      <th>5</th>\n",
       "      <td>6.552847</td>\n",
       "      <td>198.806940</td>\n",
       "      <td>34006.42073</td>\n",
       "      <td>8.691206</td>\n",
       "      <td>274.904351</td>\n",
       "      <td>477.163907</td>\n",
       "      <td>14.369630</td>\n",
       "      <td>78.173063</td>\n",
       "      <td>4.687986</td>\n",
       "    </tr>\n",
       "    <tr>\n",
       "      <th>6</th>\n",
       "      <td>8.923981</td>\n",
       "      <td>135.938468</td>\n",
       "      <td>27919.77067</td>\n",
       "      <td>12.363285</td>\n",
       "      <td>333.775777</td>\n",
       "      <td>415.629484</td>\n",
       "      <td>11.949914</td>\n",
       "      <td>69.314880</td>\n",
       "      <td>4.155583</td>\n",
       "    </tr>\n",
       "    <tr>\n",
       "      <th>7</th>\n",
       "      <td>9.624727</td>\n",
       "      <td>217.372780</td>\n",
       "      <td>25175.75416</td>\n",
       "      <td>9.883946</td>\n",
       "      <td>329.174454</td>\n",
       "      <td>394.054835</td>\n",
       "      <td>20.277571</td>\n",
       "      <td>85.840258</td>\n",
       "      <td>2.615257</td>\n",
       "    </tr>\n",
       "    <tr>\n",
       "      <th>8</th>\n",
       "      <td>7.046549</td>\n",
       "      <td>128.482517</td>\n",
       "      <td>30569.81055</td>\n",
       "      <td>4.449123</td>\n",
       "      <td>281.724715</td>\n",
       "      <td>348.264591</td>\n",
       "      <td>15.142006</td>\n",
       "      <td>58.157304</td>\n",
       "      <td>2.869226</td>\n",
       "    </tr>\n",
       "    <tr>\n",
       "      <th>9</th>\n",
       "      <td>8.137768</td>\n",
       "      <td>203.861867</td>\n",
       "      <td>24172.70331</td>\n",
       "      <td>6.844018</td>\n",
       "      <td>305.832580</td>\n",
       "      <td>470.836265</td>\n",
       "      <td>19.232961</td>\n",
       "      <td>30.708421</td>\n",
       "      <td>5.003826</td>\n",
       "    </tr>\n",
       "    <tr>\n",
       "      <th>10</th>\n",
       "      <td>7.082301</td>\n",
       "      <td>169.468927</td>\n",
       "      <td>29846.71906</td>\n",
       "      <td>5.443387</td>\n",
       "      <td>350.401849</td>\n",
       "      <td>353.030380</td>\n",
       "      <td>18.959534</td>\n",
       "      <td>30.389096</td>\n",
       "      <td>3.485577</td>\n",
       "    </tr>\n",
       "    <tr>\n",
       "      <th>11</th>\n",
       "      <td>6.084360</td>\n",
       "      <td>155.271425</td>\n",
       "      <td>27310.06085</td>\n",
       "      <td>7.817129</td>\n",
       "      <td>333.775777</td>\n",
       "      <td>436.988934</td>\n",
       "      <td>12.657512</td>\n",
       "      <td>66.396293</td>\n",
       "      <td>4.298111</td>\n",
       "    </tr>\n",
       "    <tr>\n",
       "      <th>12</th>\n",
       "      <td>7.080795</td>\n",
       "      <td>167.104430</td>\n",
       "      <td>30362.68395</td>\n",
       "      <td>9.990332</td>\n",
       "      <td>362.261636</td>\n",
       "      <td>432.030710</td>\n",
       "      <td>9.971476</td>\n",
       "      <td>94.984101</td>\n",
       "      <td>3.346057</td>\n",
       "    </tr>\n",
       "    <tr>\n",
       "      <th>13</th>\n",
       "      <td>5.716251</td>\n",
       "      <td>184.229295</td>\n",
       "      <td>19393.46986</td>\n",
       "      <td>5.299164</td>\n",
       "      <td>290.276455</td>\n",
       "      <td>502.993687</td>\n",
       "      <td>19.643896</td>\n",
       "      <td>68.236370</td>\n",
       "      <td>3.433135</td>\n",
       "    </tr>\n",
       "    <tr>\n",
       "      <th>14</th>\n",
       "      <td>5.827541</td>\n",
       "      <td>191.004930</td>\n",
       "      <td>25863.34324</td>\n",
       "      <td>4.823832</td>\n",
       "      <td>316.025513</td>\n",
       "      <td>370.357288</td>\n",
       "      <td>18.361858</td>\n",
       "      <td>48.658109</td>\n",
       "      <td>3.179129</td>\n",
       "    </tr>\n",
       "    <tr>\n",
       "      <th>15</th>\n",
       "      <td>4.227537</td>\n",
       "      <td>201.447487</td>\n",
       "      <td>13122.32958</td>\n",
       "      <td>6.932558</td>\n",
       "      <td>374.843538</td>\n",
       "      <td>402.660774</td>\n",
       "      <td>22.823293</td>\n",
       "      <td>76.469426</td>\n",
       "      <td>4.479628</td>\n",
       "    </tr>\n",
       "    <tr>\n",
       "      <th>16</th>\n",
       "      <td>7.080795</td>\n",
       "      <td>253.149651</td>\n",
       "      <td>12037.77039</td>\n",
       "      <td>4.384358</td>\n",
       "      <td>325.413248</td>\n",
       "      <td>422.389292</td>\n",
       "      <td>13.168299</td>\n",
       "      <td>40.052151</td>\n",
       "      <td>3.399945</td>\n",
       "    </tr>\n",
       "    <tr>\n",
       "      <th>17</th>\n",
       "      <td>4.150214</td>\n",
       "      <td>174.926741</td>\n",
       "      <td>41489.63981</td>\n",
       "      <td>5.569869</td>\n",
       "      <td>333.775777</td>\n",
       "      <td>425.250046</td>\n",
       "      <td>12.534009</td>\n",
       "      <td>86.683635</td>\n",
       "      <td>3.502371</td>\n",
       "    </tr>\n",
       "    <tr>\n",
       "      <th>18</th>\n",
       "      <td>7.233538</td>\n",
       "      <td>231.560832</td>\n",
       "      <td>16621.49479</td>\n",
       "      <td>6.073041</td>\n",
       "      <td>333.775777</td>\n",
       "      <td>475.821645</td>\n",
       "      <td>8.688715</td>\n",
       "      <td>35.833969</td>\n",
       "      <td>3.679015</td>\n",
       "    </tr>\n",
       "    <tr>\n",
       "      <th>19</th>\n",
       "      <td>6.352973</td>\n",
       "      <td>244.846717</td>\n",
       "      <td>13858.70394</td>\n",
       "      <td>9.179442</td>\n",
       "      <td>333.775777</td>\n",
       "      <td>403.560482</td>\n",
       "      <td>12.520126</td>\n",
       "      <td>59.046994</td>\n",
       "      <td>4.155495</td>\n",
       "    </tr>\n",
       "    <tr>\n",
       "      <th>20</th>\n",
       "      <td>7.080795</td>\n",
       "      <td>191.531630</td>\n",
       "      <td>12885.51691</td>\n",
       "      <td>6.979955</td>\n",
       "      <td>328.600221</td>\n",
       "      <td>596.751026</td>\n",
       "      <td>13.447513</td>\n",
       "      <td>50.756064</td>\n",
       "      <td>2.372925</td>\n",
       "    </tr>\n",
       "    <tr>\n",
       "      <th>21</th>\n",
       "      <td>10.316400</td>\n",
       "      <td>217.266842</td>\n",
       "      <td>10676.50848</td>\n",
       "      <td>3.445515</td>\n",
       "      <td>397.754946</td>\n",
       "      <td>492.206474</td>\n",
       "      <td>12.812732</td>\n",
       "      <td>72.281920</td>\n",
       "      <td>3.407349</td>\n",
       "    </tr>\n",
       "    <tr>\n",
       "      <th>22</th>\n",
       "      <td>7.080795</td>\n",
       "      <td>200.839894</td>\n",
       "      <td>20743.34840</td>\n",
       "      <td>6.905988</td>\n",
       "      <td>264.643533</td>\n",
       "      <td>450.361720</td>\n",
       "      <td>10.209153</td>\n",
       "      <td>70.495602</td>\n",
       "      <td>3.808913</td>\n",
       "    </tr>\n",
       "    <tr>\n",
       "      <th>23</th>\n",
       "      <td>6.443754</td>\n",
       "      <td>196.615992</td>\n",
       "      <td>25740.41259</td>\n",
       "      <td>2.484380</td>\n",
       "      <td>435.672765</td>\n",
       "      <td>352.353623</td>\n",
       "      <td>16.924419</td>\n",
       "      <td>33.051888</td>\n",
       "      <td>4.498685</td>\n",
       "    </tr>\n",
       "  </tbody>\n",
       "</table>\n",
       "</div>"
      ],
      "text/plain": [
       "           ph    Hardness       Solids  Chloramines     Sulfate  Conductivity  \\\n",
       "0    7.080795  219.674262  22210.61308     5.875041  333.775777    398.517703   \n",
       "1    6.783888  193.653581  13677.10644     5.171454  323.728663    477.854687   \n",
       "2    6.010618  184.558582  15940.57327     8.165222  421.486089    314.529813   \n",
       "3    8.097454  218.992436  18112.28445     6.196947  333.775777    376.569803   \n",
       "4    8.072612  210.269780  16843.36393     8.793459  359.516169    559.167574   \n",
       "5    6.552847  198.806940  34006.42073     8.691206  274.904351    477.163907   \n",
       "6    8.923981  135.938468  27919.77067    12.363285  333.775777    415.629484   \n",
       "7    9.624727  217.372780  25175.75416     9.883946  329.174454    394.054835   \n",
       "8    7.046549  128.482517  30569.81055     4.449123  281.724715    348.264591   \n",
       "9    8.137768  203.861867  24172.70331     6.844018  305.832580    470.836265   \n",
       "10   7.082301  169.468927  29846.71906     5.443387  350.401849    353.030380   \n",
       "11   6.084360  155.271425  27310.06085     7.817129  333.775777    436.988934   \n",
       "12   7.080795  167.104430  30362.68395     9.990332  362.261636    432.030710   \n",
       "13   5.716251  184.229295  19393.46986     5.299164  290.276455    502.993687   \n",
       "14   5.827541  191.004930  25863.34324     4.823832  316.025513    370.357288   \n",
       "15   4.227537  201.447487  13122.32958     6.932558  374.843538    402.660774   \n",
       "16   7.080795  253.149651  12037.77039     4.384358  325.413248    422.389292   \n",
       "17   4.150214  174.926741  41489.63981     5.569869  333.775777    425.250046   \n",
       "18   7.233538  231.560832  16621.49479     6.073041  333.775777    475.821645   \n",
       "19   6.352973  244.846717  13858.70394     9.179442  333.775777    403.560482   \n",
       "20   7.080795  191.531630  12885.51691     6.979955  328.600221    596.751026   \n",
       "21  10.316400  217.266842  10676.50848     3.445515  397.754946    492.206474   \n",
       "22   7.080795  200.839894  20743.34840     6.905988  264.643533    450.361720   \n",
       "23   6.443754  196.615992  25740.41259     2.484380  435.672765    352.353623   \n",
       "\n",
       "    Organic_carbon  Trihalomethanes  Turbidity  \n",
       "0        11.502316       112.412210   2.994259  \n",
       "1        15.056064        66.396293   3.250022  \n",
       "2        20.314617        83.707938   4.867287  \n",
       "3        17.746264        59.909941   4.279082  \n",
       "4        17.263576        68.738989   5.082206  \n",
       "5        14.369630        78.173063   4.687986  \n",
       "6        11.949914        69.314880   4.155583  \n",
       "7        20.277571        85.840258   2.615257  \n",
       "8        15.142006        58.157304   2.869226  \n",
       "9        19.232961        30.708421   5.003826  \n",
       "10       18.959534        30.389096   3.485577  \n",
       "11       12.657512        66.396293   4.298111  \n",
       "12        9.971476        94.984101   3.346057  \n",
       "13       19.643896        68.236370   3.433135  \n",
       "14       18.361858        48.658109   3.179129  \n",
       "15       22.823293        76.469426   4.479628  \n",
       "16       13.168299        40.052151   3.399945  \n",
       "17       12.534009        86.683635   3.502371  \n",
       "18        8.688715        35.833969   3.679015  \n",
       "19       12.520126        59.046994   4.155495  \n",
       "20       13.447513        50.756064   2.372925  \n",
       "21       12.812732        72.281920   3.407349  \n",
       "22       10.209153        70.495602   3.808913  \n",
       "23       16.924419        33.051888   4.498685  "
      ]
     },
     "execution_count": 31,
     "metadata": {},
     "output_type": "execute_result"
    }
   ],
   "source": [
    "test_data=pd.read_csv(\"Test_data.csv\")\n",
    "test_data\n"
   ]
  },
  {
   "cell_type": "code",
   "execution_count": 32,
   "id": "a91706fa",
   "metadata": {},
   "outputs": [
    {
     "data": {
      "text/plain": [
       "array([[ 0.0551016 ,  0.81185307,  0.02376806, -0.38387992, -0.06984856,\n",
       "        -0.49493091, -0.995227  ,  2.31821113, -1.06697755],\n",
       "       [-0.1571613 , -0.06031931, -1.06417521, -0.69610132, -0.31727045,\n",
       "         0.70569078, -0.04704679,  0.09427538, -0.72206771],\n",
       "       [-0.70998508, -0.36516939, -0.7756041 ,  0.63240232,  2.09012029,\n",
       "        -1.76593563,  1.35599442,  0.93094208,  1.45889916],\n",
       "       [ 0.78192765,  0.78899934, -0.49873099, -0.24103197, -0.06984856,\n",
       "        -0.82707265,  0.67072879, -0.21920811,  0.66567388],\n",
       "       [ 0.76416816,  0.49662959, -0.66050663,  0.91118628,  0.56403867,\n",
       "         1.93621417,  0.54194232,  0.2074972 ,  1.74872849],\n",
       "       [-0.32233622,  0.1124132 ,  1.52762457,  0.8658111 , -1.51962614,\n",
       "         0.69523706, -0.23019513,  0.66344319,  1.21710203],\n",
       "       [ 1.37282497, -1.99483927,  0.75163291,  2.49531916, -0.06984856,\n",
       "        -0.23597507, -0.87580275,  0.23532981,  0.49912872],\n",
       "       [ 1.87379975,  0.734711  ,  0.40179616,  1.3950967 , -0.18316149,\n",
       "        -0.56246833,  1.34611031,  1.03399648, -1.57808126],\n",
       "       [ 0.03061861, -2.24475101,  1.08948852, -1.01664023, -1.35166673,\n",
       "        -1.25542082, -0.02411663, -0.30391251, -1.23559125],\n",
       "       [ 0.81074886,  0.28184643,  0.27391644,  0.04610953, -0.7579824 ,\n",
       "         0.59947965,  1.06739657, -1.63050895,  1.64302833],\n",
       "       [ 0.05617837, -0.87095091,  0.99730103, -0.57542919,  0.33958789,\n",
       "        -1.18329922,  0.99444315, -1.64594185, -0.40440923],\n",
       "       [-0.65726536, -1.34682889,  0.67390054,  0.47793392, -0.06984856,\n",
       "         0.08726156, -0.68700744,  0.09427538,  0.69133484],\n",
       "       [ 0.0551016 , -0.95020516,  1.06308179,  1.44230646,  0.63164899,\n",
       "         0.0122278 , -1.40367218,  1.47591575, -0.5925597 ],\n",
       "       [-0.92043223, -0.37620656, -0.33539168, -0.63942917, -1.14107015,\n",
       "         1.08612404,  1.17703852,  0.18320578, -0.47513002],\n",
       "       [-0.84086932, -0.1490979 ,  0.48945741, -0.8503608 , -0.50696952,\n",
       "        -0.92108783,  0.83497636, -0.76300585, -0.81767129],\n",
       "       [-1.98473777,  0.20092018, -1.13490414,  0.08539985,  0.94149302,\n",
       "        -0.43223303,  2.02533759,  0.58110696,  0.93612056],\n",
       "       [ 0.0551016 ,  1.93389555, -1.27317542, -1.04538007, -0.27578559,\n",
       "        -0.13367761, -0.55072376, -1.17892926, -0.51988833],\n",
       "       [-2.04001729, -0.68801356,  2.48166588, -0.51930211, -0.06984856,\n",
       "        -0.09038527, -0.71995963,  1.07475663, -0.38176233],\n",
       "       [ 0.16430069,  1.21027224, -0.6887929 , -0.29601625, -0.06984856,\n",
       "         0.67492436, -1.74592744, -1.38279276, -0.14354838],\n",
       "       [-0.46522962,  1.65559423, -1.04102321,  1.08246878, -0.06984856,\n",
       "        -0.41861757, -0.72366366, -0.2609141 ,  0.49900931],\n",
       "       [ 0.0551016 , -0.13144376, -1.16509557,  0.10643242, -0.19730266,\n",
       "         2.5049717 , -0.47622635, -0.66161227, -1.90487968],\n",
       "       [ 2.36828825,  0.73116015, -1.44672374, -1.46199763,  1.50571319,\n",
       "         0.92287909, -0.64559306,  0.37872602, -0.50990373],\n",
       "       [ 0.0551016 ,  0.18055465, -0.16329464,  0.07360931, -1.77231076,\n",
       "         0.28963446, -1.34025749,  0.29239377,  0.03162573],\n",
       "       [-0.40032913,  0.03897606,  0.47378489, -1.88850717,  2.43948374,\n",
       "        -1.19354072,  0.4514513 , -1.51724991,  0.96181941]])"
      ]
     },
     "execution_count": 32,
     "metadata": {},
     "output_type": "execute_result"
    }
   ],
   "source": [
    "scaler = StandardScaler()\n",
    "test_data= scaler.fit_transform(test_data)\n",
    "test_data\n"
   ]
  },
  {
   "cell_type": "code",
   "execution_count": 33,
   "id": "9f9446a4",
   "metadata": {},
   "outputs": [],
   "source": [
    "labels = ['safe','unsafe']"
   ]
  },
  {
   "cell_type": "code",
   "execution_count": 34,
   "id": "edfad1d6",
   "metadata": {},
   "outputs": [
    {
     "data": {
      "text/plain": [
       "array([0, 0, 1, 0, 1, 1, 1, 1, 0, 0, 0, 1, 1, 1, 1, 0, 1, 0, 0, 1, 0, 0,\n",
       "       0, 1], dtype=int64)"
      ]
     },
     "execution_count": 34,
     "metadata": {},
     "output_type": "execute_result"
    }
   ],
   "source": [
    "predict=adaboost_model.predict(test_data)\n",
    "predict"
   ]
  },
  {
   "cell_type": "code",
   "execution_count": 36,
   "id": "a1d06042",
   "metadata": {},
   "outputs": [
    {
     "name": "stdout",
     "output_type": "stream",
     "text": [
      "           0         1         2         3         4         5         6  \\\n",
      "0   0.055102  0.811853  0.023768 -0.383880 -0.069849 -0.494931 -0.995227   \n",
      "1  -0.157161 -0.060319 -1.064175 -0.696101 -0.317270  0.705691 -0.047047   \n",
      "2  -0.709985 -0.365169 -0.775604  0.632402  2.090120 -1.765936  1.355994   \n",
      "3   0.781928  0.788999 -0.498731 -0.241032 -0.069849 -0.827073  0.670729   \n",
      "4   0.764168  0.496630 -0.660507  0.911186  0.564039  1.936214  0.541942   \n",
      "5  -0.322336  0.112413  1.527625  0.865811 -1.519626  0.695237 -0.230195   \n",
      "6   1.372825 -1.994839  0.751633  2.495319 -0.069849 -0.235975 -0.875803   \n",
      "7   1.873800  0.734711  0.401796  1.395097 -0.183161 -0.562468  1.346110   \n",
      "8   0.030619 -2.244751  1.089489 -1.016640 -1.351667 -1.255421 -0.024117   \n",
      "9   0.810749  0.281846  0.273916  0.046110 -0.757982  0.599480  1.067397   \n",
      "10  0.056178 -0.870951  0.997301 -0.575429  0.339588 -1.183299  0.994443   \n",
      "11 -0.657265 -1.346829  0.673901  0.477934 -0.069849  0.087262 -0.687007   \n",
      "12  0.055102 -0.950205  1.063082  1.442306  0.631649  0.012228 -1.403672   \n",
      "13 -0.920432 -0.376207 -0.335392 -0.639429 -1.141070  1.086124  1.177039   \n",
      "14 -0.840869 -0.149098  0.489457 -0.850361 -0.506970 -0.921088  0.834976   \n",
      "15 -1.984738  0.200920 -1.134904  0.085400  0.941493 -0.432233  2.025338   \n",
      "16  0.055102  1.933896 -1.273175 -1.045380 -0.275786 -0.133678 -0.550724   \n",
      "17 -2.040017 -0.688014  2.481666 -0.519302 -0.069849 -0.090385 -0.719960   \n",
      "18  0.164301  1.210272 -0.688793 -0.296016 -0.069849  0.674924 -1.745927   \n",
      "19 -0.465230  1.655594 -1.041023  1.082469 -0.069849 -0.418618 -0.723664   \n",
      "20  0.055102 -0.131444 -1.165096  0.106432 -0.197303  2.504972 -0.476226   \n",
      "21  2.368288  0.731160 -1.446724 -1.461998  1.505713  0.922879 -0.645593   \n",
      "22  0.055102  0.180555 -0.163295  0.073609 -1.772311  0.289634 -1.340257   \n",
      "23 -0.400329  0.038976  0.473785 -1.888507  2.439484 -1.193541  0.451451   \n",
      "\n",
      "           7         8  Prediction   Label  \n",
      "0   2.318211 -1.066978           0  unsafe  \n",
      "1   0.094275 -0.722068           0  unsafe  \n",
      "2   0.930942  1.458899           1    safe  \n",
      "3  -0.219208  0.665674           0  unsafe  \n",
      "4   0.207497  1.748728           1    safe  \n",
      "5   0.663443  1.217102           1    safe  \n",
      "6   0.235330  0.499129           1    safe  \n",
      "7   1.033996 -1.578081           1    safe  \n",
      "8  -0.303913 -1.235591           0  unsafe  \n",
      "9  -1.630509  1.643028           0  unsafe  \n",
      "10 -1.645942 -0.404409           0  unsafe  \n",
      "11  0.094275  0.691335           1    safe  \n",
      "12  1.475916 -0.592560           1    safe  \n",
      "13  0.183206 -0.475130           1    safe  \n",
      "14 -0.763006 -0.817671           1    safe  \n",
      "15  0.581107  0.936121           0  unsafe  \n",
      "16 -1.178929 -0.519888           1    safe  \n",
      "17  1.074757 -0.381762           0  unsafe  \n",
      "18 -1.382793 -0.143548           0  unsafe  \n",
      "19 -0.260914  0.499009           1    safe  \n",
      "20 -0.661612 -1.904880           0  unsafe  \n",
      "21  0.378726 -0.509904           0  unsafe  \n",
      "22  0.292394  0.031626           0  unsafe  \n",
      "23 -1.517250  0.961819           1    safe  \n"
     ]
    }
   ],
   "source": [
    "\n",
    "# X_scaled = scaler.fit_transform(test_data)\n",
    "\n",
    "# Make predictions\n",
    "predictions = adaboost_model.predict(test_data)\n",
    "\n",
    "# Convert back to DataFrame to add columns\n",
    "test_data_with_predictions = pd.DataFrame(test_data)  # Copy original data\n",
    "test_data_with_predictions['Prediction'] = predictions\n",
    "test_data_with_predictions['Label'] = ['unsafe' if pred == 0 else 'safe' for pred in predictions]\n",
    "\n",
    "# Show result\n",
    "print(test_data_with_predictions)"
   ]
  },
  {
   "cell_type": "code",
   "execution_count": null,
   "id": "a229a6cd",
   "metadata": {},
   "outputs": [],
   "source": []
  },
  {
   "cell_type": "code",
   "execution_count": null,
   "id": "41770c89",
   "metadata": {},
   "outputs": [],
   "source": []
  }
 ],
 "metadata": {
  "kernelspec": {
   "display_name": "Python 3 (ipykernel)",
   "language": "python",
   "name": "python3"
  },
  "language_info": {
   "codemirror_mode": {
    "name": "ipython",
    "version": 3
   },
   "file_extension": ".py",
   "mimetype": "text/x-python",
   "name": "python",
   "nbconvert_exporter": "python",
   "pygments_lexer": "ipython3",
   "version": "3.7.6"
  },
  "papermill": {
   "default_parameters": {},
   "duration": 103.065704,
   "end_time": "2022-08-05T15:54:42.160588",
   "environment_variables": {},
   "exception": null,
   "input_path": "__notebook__.ipynb",
   "output_path": "__notebook__.ipynb",
   "parameters": {},
   "start_time": "2022-08-05T15:52:59.094884",
   "version": "2.3.4"
  }
 },
 "nbformat": 4,
 "nbformat_minor": 5
}
